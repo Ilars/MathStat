{
 "cells": [
  {
   "cell_type": "markdown",
   "id": "908e8e39",
   "metadata": {},
   "source": [
    "# Загрузка библиотек"
   ]
  },
  {
   "cell_type": "code",
   "execution_count": 1,
   "id": "bd30cb2b",
   "metadata": {},
   "outputs": [],
   "source": [
    "import numpy as np\n",
    "import scipy.stats as stats\n",
    "import scipy.special as special"
   ]
  },
  {
   "cell_type": "markdown",
   "id": "cc2134e5",
   "metadata": {},
   "source": [
    "# Тест Пирсона"
   ]
  },
  {
   "cell_type": "code",
   "execution_count": 2,
   "id": "4514dc5b",
   "metadata": {},
   "outputs": [],
   "source": [
    "import numpy as np\n",
    "from scipy import special, stats\n",
    "\n",
    "def forpirson(x, n, k):\n",
    "    \"\"\"\n",
    "    Функция для вычисления весов и вероятностей в тесте Пирсона.\n",
    "    \n",
    "    Параметры:\n",
    "    x (numpy.ndarray): Входные данные.\n",
    "    n (int): Количество наблюдений.\n",
    "    k (int): Количество интервалов.\n",
    "    \n",
    "    Возвращает:\n",
    "    w (numpy.ndarray): Веса для каждого интервала.\n",
    "    p (numpy.ndarray): Вероятности для каждого интервала.\n",
    "    \"\"\"\n",
    "    z0 = np.floor(min(x))\n",
    "    zk = np.ceil(max(x))\n",
    "    h = (zk - z0) / k\n",
    "    w = np.zeros(k)\n",
    "    i = 0\n",
    "    for _x in x:\n",
    "        z0 -= i * h\n",
    "        i = 0\n",
    "        while z0 < zk:\n",
    "            if z0 <= _x <= z0 + h:\n",
    "                w[i] += 1\n",
    "            i += 1\n",
    "            z0 += h\n",
    "    z0 -= i * h\n",
    "    w /= n\n",
    "    z = []\n",
    "    for i in range(k):\n",
    "        z.append((z0 + h * i + z0 + h * (i + 1)) / 2)\n",
    "    z = np.array(z)\n",
    "    xavg = (z * w).sum()\n",
    "    xvar = (pow((z - xavg), 2) * w).sum() * k / (k - 1)\n",
    "    p = []\n",
    "    for i in range(k):\n",
    "        p.append((special.erf((z0 + h * (i + 1) - xavg) / np.sqrt(2 * xvar)) - special.erf((z0 + h * (i) - xavg) / np.sqrt(2 * xvar))) / 2)\n",
    "    p = np.array(p)\n",
    "    return w, p\n",
    "\n",
    "def pirson(p1, p2, n):\n",
    "    \"\"\"\n",
    "    Функция для вычисления статистики теста Пирсона.\n",
    "    \n",
    "    Параметры:\n",
    "    p1 (numpy.ndarray): Фактические вероятности.\n",
    "    p2 (numpy.ndarray): Теоретические вероятности.\n",
    "    n (int): Количество наблюдений.\n",
    "    \n",
    "    Возвращает:\n",
    "    статистику теста Пирсона.\n",
    "    \"\"\"\n",
    "    if min(p2) > 0:\n",
    "        return n * (pow((p1 - p2), 2) / p2).sum()\n",
    "    else:\n",
    "        return np.inf"
   ]
  },
  {
   "cell_type": "code",
   "execution_count": 3,
   "id": "9ff65738",
   "metadata": {},
   "outputs": [],
   "source": [
    "n = 1000\n",
    "alpha = 0.05\n",
    "k = int(np.floor(np.log2(n)) + 1)"
   ]
  },
  {
   "cell_type": "code",
   "execution_count": 4,
   "id": "b9c97629",
   "metadata": {},
   "outputs": [
    {
     "data": {
      "text/plain": [
       "10"
      ]
     },
     "execution_count": 4,
     "metadata": {},
     "output_type": "execute_result"
    }
   ],
   "source": [
    "k"
   ]
  },
  {
   "cell_type": "code",
   "execution_count": 6,
   "id": "b02cb564",
   "metadata": {},
   "outputs": [
    {
     "name": "stdout",
     "output_type": "stream",
     "text": [
      "Нормальное распределение:\n",
      "==================================================\n",
      "Статистика Пирсона: 10.36\n",
      "Критическое значение χ²: 16.92\n",
      "==================================================\n",
      "Гипотеза о нормальном распределении принимается\n",
      "\n"
     ]
    }
   ],
   "source": [
    "# Нормальное распределение\n",
    "x = np.random.normal(3, np.sqrt(5), n)\n",
    "w, p = forpirson(x, n, k)\n",
    "ans = pirson(w, p, n)\n",
    "chi2 = stats.chi2.ppf(1 - alpha, k - 1)\n",
    "print(\"Нормальное распределение:\")\n",
    "print(\"=\" * 50)\n",
    "print(f\"Статистика Пирсона: {ans:.2f}\")\n",
    "print(f\"Критическое значение χ²: {chi2:.2f}\")\n",
    "print(\"=\" * 50)\n",
    "print(f\"Гипотеза о нормальном распределении {'отвергается' if ans >= chi2 else 'принимается'}\\n\")"
   ]
  },
  {
   "cell_type": "code",
   "execution_count": 51,
   "id": "f1648675",
   "metadata": {},
   "outputs": [
    {
     "name": "stdout",
     "output_type": "stream",
     "text": [
      "Распределение Коши:\n",
      "==================================================\n",
      "Статистика Пирсона: inf\n",
      "Критическое значение χ²: 16.92\n",
      "==================================================\n",
      "Гипотеза о распределении Коши отвергается\n",
      "\n"
     ]
    }
   ],
   "source": [
    "# Распределение Коши\n",
    "y = x + 0.5 * np.random.standard_cauchy(n)\n",
    "w, p = forpirson(y, n, k)\n",
    "ans = pirson(w, p, n)\n",
    "print(\"Распределение Коши:\")\n",
    "print(\"=\" * 50)\n",
    "print(f\"Статистика Пирсона: {ans:.2f}\")\n",
    "print(f\"Критическое значение χ²: {chi2:.2f}\")\n",
    "print(\"=\" * 50)\n",
    "print(f\"Гипотеза о распределении Коши {'отвергается' if ans >= chi2 else 'принимается'}\\n\")"
   ]
  },
  {
   "cell_type": "code",
   "execution_count": 7,
   "id": "fbd6b734",
   "metadata": {},
   "outputs": [
    {
     "name": "stdout",
     "output_type": "stream",
     "text": [
      "Равномерное распределение:\n",
      "==================================================\n",
      "Статистика Пирсона: 11.00\n",
      "Критическое значение χ²: 16.92\n",
      "==================================================\n",
      "Гипотеза о гауссовском распределении принимается\n"
     ]
    }
   ],
   "source": [
    "# Равномерное распределение\n",
    "z = x + 0.3 * np.random.uniform(-1, 1, n)\n",
    "w, p = forpirson(z, n, k)\n",
    "ans = pirson(w, p, n)\n",
    "print(\"Равномерное распределение:\")\n",
    "print(\"=\" * 50)\n",
    "print(f\"Статистика Пирсона: {ans:.2f}\")\n",
    "print(f\"Критическое значение χ²: {chi2:.2f}\")\n",
    "print(\"=\" * 50)\n",
    "print(f\"Гипотеза о гауссовском распределении {'отвергается' if ans >= chi2 else 'принимается'}\")"
   ]
  },
  {
   "cell_type": "markdown",
   "id": "d90f1bab",
   "metadata": {},
   "source": [
    "# Тест Колмогорова"
   ]
  },
  {
   "cell_type": "code",
   "execution_count": 8,
   "id": "d9e6f776",
   "metadata": {},
   "outputs": [],
   "source": [
    "def forkolmogorov(x, xj):\n",
    "    \"\"\"\n",
    "    Функция для вычисления количества элементов в выборке, меньших или равных xj.\n",
    "    \n",
    "    Параметры:\n",
    "    x (numpy.ndarray): Входные данные.\n",
    "    xj (float): Значение, для которого вычисляется количество элементов.\n",
    "    \n",
    "    Возвращает:\n",
    "    int: Количество элементов в выборке, меньших или равных xj.\n",
    "    \"\"\"\n",
    "    sum = 0\n",
    "    for _x in x:\n",
    "        if _x <= xj:\n",
    "            sum += 1\n",
    "    return sum\n",
    "\n",
    "def kolmogorov(x, n, eps=0.0001):\n",
    "    \"\"\"\n",
    "    Функция для вычисления статистики Колмогорова-Смирнова.\n",
    "    \n",
    "    Параметры:\n",
    "    x (numpy.ndarray): Входные данные.\n",
    "    n (int): Количество наблюдений.\n",
    "    eps (float, optional): Малая величина для вычисления Fn_. По умолчанию 0.0001.\n",
    "    \n",
    "    Возвращает:\n",
    "    float: Статистика Колмогорова-Смирнова.\n",
    "    \"\"\"\n",
    "    D = 0\n",
    "    for _x in x:\n",
    "        F = special.erf((_x - np.average(x)) / np.sqrt(2 * np.var(x))) / 2 + 0.5\n",
    "        Fn__ = forkolmogorov(x, _x + eps) / n\n",
    "        Fn_ = forkolmogorov(x, _x - eps) / n\n",
    "        D = max(abs(F - Fn_), abs(F - Fn__), D)\n",
    "    return np.sqrt(n) * D"
   ]
  },
  {
   "cell_type": "code",
   "execution_count": 9,
   "id": "6a55ca8e",
   "metadata": {},
   "outputs": [
    {
     "name": "stdout",
     "output_type": "stream",
     "text": [
      "Нормальное распределение:\n",
      "==================================================\n",
      "Статистика Колмогорова-Смирнова: 0.5993\n",
      "Критическое значение: 1.3581\n",
      "==================================================\n",
      "Гипотеза о нормальном распределении принимается\n",
      "\n"
     ]
    }
   ],
   "source": [
    "# Нормальное распределение\n",
    "x = np.random.normal(3, np.sqrt(5), n)\n",
    "ans = kolmogorov(x, n)\n",
    "kolm = stats.kstwobign.ppf(1 - alpha)\n",
    "print(\"Нормальное распределение:\")\n",
    "print(\"=\" * 50)\n",
    "print(f\"Статистика Колмогорова-Смирнова: {ans:.4f}\")\n",
    "print(f\"Критическое значение: {kolm:.4f}\")\n",
    "print(\"=\" * 50)\n",
    "print(f\"Гипотеза о нормальном распределении {'отвергается' if ans >= kolm else 'принимается'}\\n\")"
   ]
  },
  {
   "cell_type": "code",
   "execution_count": 10,
   "id": "c66e1137",
   "metadata": {},
   "outputs": [
    {
     "name": "stdout",
     "output_type": "stream",
     "text": [
      "Распределение Коши:\n",
      "==================================================\n",
      "Статистика Колмогорова-Смирнова: 8.2783\n",
      "Критическое значение: 1.3581\n",
      "==================================================\n",
      "Гипотеза о распределении Гаусса отвергается\n",
      "\n"
     ]
    }
   ],
   "source": [
    "# Распределение Коши\n",
    "y = x + 0.5 * np.random.standard_cauchy(n)\n",
    "ans = kolmogorov(y, n)\n",
    "print(\"Распределение Коши:\")\n",
    "print(\"=\" * 50)\n",
    "print(f\"Статистика Колмогорова-Смирнова: {ans:.4f}\")\n",
    "print(f\"Критическое значение: {kolm:.4f}\")\n",
    "print(\"=\" * 50)\n",
    "print(f\"Гипотеза о распределении Гаусса {'отвергается' if ans >= kolm else 'принимается'}\\n\")"
   ]
  },
  {
   "cell_type": "code",
   "execution_count": 11,
   "id": "284568a5",
   "metadata": {},
   "outputs": [
    {
     "name": "stdout",
     "output_type": "stream",
     "text": [
      "Равномерное распределение:\n",
      "==================================================\n",
      "Статистика Колмогорова-Смирнова: 0.4848\n",
      "Критическое значение: 1.3581\n",
      "==================================================\n",
      "Гипотеза о Гауссова распределении принимается\n"
     ]
    }
   ],
   "source": [
    "# Равномерное распределение\n",
    "z = x + 0.3 * np.random.uniform(-1, 1, n)\n",
    "ans = kolmogorov(z, n)\n",
    "print(\"Равномерное распределение:\")\n",
    "print(\"=\" * 50)\n",
    "print(f\"Статистика Колмогорова-Смирнова: {ans:.4f}\")\n",
    "print(f\"Критическое значение: {kolm:.4f}\")\n",
    "print(\"=\" * 50)\n",
    "print(f\"Гипотеза о Гауссова распределении {'отвергается' if ans >= kolm else 'принимается'}\")"
   ]
  },
  {
   "cell_type": "markdown",
   "id": "0f06e989",
   "metadata": {},
   "source": [
    "# Двухвыборочный тест Колмогорова-Смирнова"
   ]
  },
  {
   "cell_type": "code",
   "execution_count": 12,
   "id": "a9e27756",
   "metadata": {},
   "outputs": [],
   "source": [
    "def forkolmogorov(x, xj):\n",
    "    \"\"\"\n",
    "    Функция для вычисления количества элементов в выборке, меньших или равных xj.\n",
    "    \n",
    "    Параметры:\n",
    "    x (numpy.ndarray): Входные данные.\n",
    "    xj (float): Значение, для которого вычисляется количество элементов.\n",
    "    \n",
    "    Возвращает:\n",
    "    int: Количество элементов в выборке, меньших или равных xj.\n",
    "    \"\"\"\n",
    "    sum = 0\n",
    "    for _x in x:\n",
    "        if _x <= xj:\n",
    "            sum += 1\n",
    "    return sum\n",
    "\n",
    "def kolmogorovsmirnov(x1, x2, n, eps = 0.0001):\n",
    "    D = 0\n",
    "    for _x in x1:\n",
    "        F11_ = forkolmogorov(x1, _x - eps) / n\n",
    "        F11__ = forkolmogorov(x1, _x + eps) / n\n",
    "        F21 = forkolmogorov(x2, _x) / n\n",
    "        for __x in x2:\n",
    "            F12 = forkolmogorov(x1, __x) / n\n",
    "            F22_ = forkolmogorov(x2, __x - eps) / n\n",
    "            F22__ = forkolmogorov(x2, __x + eps) / n\n",
    "            D = max(abs(F11_ - F21), abs(F11__ - F21), abs(F12 - F22_), abs(F12 - F22__), D)\n",
    "    return np.sqrt(n / 2) * D"
   ]
  },
  {
   "cell_type": "code",
   "execution_count": 56,
   "id": "c2fdfd04",
   "metadata": {},
   "outputs": [
    {
     "name": "stdout",
     "output_type": "stream",
     "text": [
      "Тест Колмогорова-Смирнова для двух выборок (одно и то же распределение):\n",
      "==================================================\n",
      "Статистика: 0.4427\n",
      "Критическое значение: 1.3581\n",
      "==================================================\n",
      "Гипотеза о равенстве распределений принимается\n",
      "\n"
     ]
    }
   ],
   "source": [
    "# Тест Колмогорова-Смирнова для двух выборок\n",
    "x = np.random.normal(3, np.sqrt(5), n)\n",
    "ans = kolmogorovsmirnov(x[:500], x[500:], 500)\n",
    "print(\"Тест Колмогорова-Смирнова для двух выборок (одно и то же распределение):\")\n",
    "print(\"=\" * 50)\n",
    "print(f\"Статистика: {ans:.4f}\")\n",
    "print(f\"Критическое значение: {kolm:.4f}\")\n",
    "print(\"=\" * 50)\n",
    "print(f\"Гипотеза о равенстве распределений {'отвергается' if ans >= kolm else 'принимается'}\\n\")"
   ]
  },
  {
   "cell_type": "code",
   "execution_count": 13,
   "id": "262d8736",
   "metadata": {},
   "outputs": [
    {
     "name": "stdout",
     "output_type": "stream",
     "text": [
      "Тест Колмогорова-Смирнова для двух выборок (разные распределения):\n",
      "==================================================\n",
      "Статистика: 1.1700\n",
      "Критическое значение: 1.3581\n",
      "==================================================\n",
      "Гипотеза о равенстве распределений принимается\n"
     ]
    }
   ],
   "source": [
    "x = np.random.normal(3, np.sqrt(5), n)\n",
    "x2 = np.random.normal(3, np.sqrt(6), n)\n",
    "ans = kolmogorovsmirnov(x[:500], x2[:500], 500)\n",
    "print(\"Тест Колмогорова-Смирнова для двух выборок (разные распределения):\")\n",
    "print(\"=\" * 50)\n",
    "print(f\"Статистика: {ans:.4f}\")\n",
    "print(f\"Критическое значение: {kolm:.4f}\")\n",
    "print(\"=\" * 50)\n",
    "print(f\"Гипотеза о равенстве распределений {'отвергается' if ans >= kolm else 'принимается'}\")"
   ]
  },
  {
   "cell_type": "code",
   "execution_count": null,
   "id": "cd001a0f",
   "metadata": {},
   "outputs": [],
   "source": []
  }
 ],
 "metadata": {
  "kernelspec": {
   "display_name": "Python 3 (ipykernel)",
   "language": "python",
   "name": "python3"
  },
  "language_info": {
   "codemirror_mode": {
    "name": "ipython",
    "version": 3
   },
   "file_extension": ".py",
   "mimetype": "text/x-python",
   "name": "python",
   "nbconvert_exporter": "python",
   "pygments_lexer": "ipython3",
   "version": "3.9.18"
  }
 },
 "nbformat": 4,
 "nbformat_minor": 5
}
