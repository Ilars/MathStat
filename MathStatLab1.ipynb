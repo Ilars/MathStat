{
 "cells": [
  {
   "cell_type": "markdown",
   "id": "e93021d7",
   "metadata": {},
   "source": [
    "# Задача:\n",
    "\n",
    "Имеется выборка некоторой случайной величины E в виде интервального статистического ряда:\n",
    "\n",
    "| Интервал   | Частота |\n",
    "|------------|---------|\n",
    "| (150;175)  | 160     |\n",
    "| (175;200)  | 340     |\n",
    "| (200;225)  | 345     |\n",
    "| (225;250)  | 135     |\n",
    "| (250;275)  | 20      |\n",
    "\n",
    "Требуется:\n",
    "\n",
    "а) Построить гистограмму и график эмперической функции распределения F_n(x).\n",
    "\n",
    "б) Вычислить выборочные: \n",
    "- среднее\n",
    "- дисперсию\n",
    "- медиану\n",
    "- коэффициент\n",
    "- вариации\n",
    "- коэффициент асимметрии\n",
    "- эксцесс.\n",
    "\n",
    "в) Добавить искусственно к данным большую флуктуацию (порядка 1000). Как изменятся вычисленные параметры? Почему?\n"
   ]
  },
  {
   "cell_type": "markdown",
   "id": "cb41d950",
   "metadata": {},
   "source": [
    "# Решение (Python):"
   ]
  },
  {
   "cell_type": "markdown",
   "id": "6ec29c15",
   "metadata": {},
   "source": [
    "## Импорт библиотек"
   ]
  },
  {
   "cell_type": "code",
   "execution_count": 1,
   "id": "bee6e230",
   "metadata": {},
   "outputs": [],
   "source": [
    "import numpy as np\n",
    "import matplotlib.pyplot as plt\n",
    "from scipy import stats"
   ]
  },
  {
   "cell_type": "markdown",
   "id": "14ad264f",
   "metadata": {},
   "source": [
    "## Интервальный статистический ряд\n"
   ]
  },
  {
   "cell_type": "code",
   "execution_count": 2,
   "id": "57ea4be0",
   "metadata": {},
   "outputs": [],
   "source": [
    "intervals = [(150, 175), (175, 200), (200, 225), (225, 250), (250, 275)]\n",
    "frequencies = [160, 340, 345, 135, 20]"
   ]
  },
  {
   "cell_type": "markdown",
   "id": "dc4cfa49",
   "metadata": {},
   "source": [
    "## Создание выборки из интервального статистического ряда\n"
   ]
  },
  {
   "cell_type": "code",
   "execution_count": 3,
   "id": "60eae00a",
   "metadata": {},
   "outputs": [],
   "source": [
    "data = []\n",
    "for interval, freq in zip(intervals, frequencies):\n",
    "    value = (interval[0] + interval[1]) / 2  # среднее значение внутри интервала\n",
    "    data.extend([value] * freq)  # повторяем значение freq раз"
   ]
  },
  {
   "cell_type": "markdown",
   "id": "210bb576",
   "metadata": {},
   "source": [
    "## Гистограмма\n"
   ]
  },
  {
   "cell_type": "code",
   "execution_count": 61,
   "id": "bbcf25ea",
   "metadata": {},
   "outputs": [
    {
     "data": {
      "text/plain": [
       "(array([0.032, 0.   , 0.   , 0.   , 0.   , 0.068, 0.   , 0.   , 0.   ,\n",
       "        0.   , 0.069, 0.   , 0.   , 0.   , 0.   , 0.027, 0.   , 0.   ,\n",
       "        0.   , 0.004]),\n",
       " array([162.5, 167.5, 172.5, 177.5, 182.5, 187.5, 192.5, 197.5, 202.5,\n",
       "        207.5, 212.5, 217.5, 222.5, 227.5, 232.5, 237.5, 242.5, 247.5,\n",
       "        252.5, 257.5, 262.5]),\n",
       " <BarContainer object of 20 artists>)"
      ]
     },
     "execution_count": 61,
     "metadata": {},
     "output_type": "execute_result"
    },
    {
     "data": {
      "image/png": "[encoded data removed]",
      "text/plain": [
       "<Figure size 640x480 with 1 Axes>"
      ]
     },
     "metadata": {},
     "output_type": "display_data"
    }
   ],
   "source": [
    "plt.hist(data, bins=20, density=True, alpha=0.7, color='blue', edgecolor='black')"
   ]
  },
  {
   "cell_type": "markdown",
   "id": "c33b61ed",
   "metadata": {},
   "source": [
    "## График эмпирической функции распределения\n"
   ]
  },
  {
   "cell_type": "code",
   "execution_count": 62,
   "id": "acc65b88",
   "metadata": {},
   "outputs": [
    {
     "data": {
      "text/plain": [
       "[<matplotlib.lines.Line2D at 0x19aea4e7bb0>]"
      ]
     },
     "execution_count": 62,
     "metadata": {},
     "output_type": "execute_result"
    },
    {
     "data": {
      "image/png": "[encoded data removed]",
      "text/plain": [
       "<Figure size 640x480 with 1 Axes>"
      ]
     },
     "metadata": {},
     "output_type": "display_data"
    }
   ],
   "source": [
    "x = np.sort(data)\n",
    "y = np.arange(1, len(x) + 1) / len(x)\n",
    "plt.plot(y, x, marker='.', linestyle='none', color='blue')"
   ]
  },
  {
   "cell_type": "markdown",
   "id": "42087939",
   "metadata": {},
   "source": [
    "## Вычисление статистических параметров выборки\n"
   ]
  },
  {
   "cell_type": "code",
   "execution_count": 63,
   "id": "fa4e0aa7",
   "metadata": {},
   "outputs": [],
   "source": [
    "mean = np.mean(data) # среднее\n",
    "variance = np.var(data) # дисперсия\n",
    "median = np.median(data) # медиана\n",
    "cv = np.std(data) / np.mean(data)  # коэффициент вариации\n",
    "skewness = stats.skew(data)  # коэффициент асимметрии\n",
    "kurtosis = stats.kurtosis(data)  # эксцесс"
   ]
  },
  {
   "cell_type": "code",
   "execution_count": 64,
   "id": "68c16d72",
   "metadata": {
    "scrolled": true
   },
   "outputs": [
    {
     "name": "stdout",
     "output_type": "stream",
     "text": [
      "**Статистические параметры для исходной выборки:**\n",
      "Среднее: 200.375\n",
      "Дисперсия: 599.859375\n",
      "Медиана: 200.0\n",
      "Коэффициент вариации: 0.12223095078640864\n",
      "Коэффициент асимметрии: 0.19734340044143722\n",
      "Эксцесс: -0.497665223450769\n"
     ]
    }
   ],
   "source": [
    "print(f\"**Статистические параметры для исходной выборки:**\")\n",
    "print(f\"Среднее: {mean}\")\n",
    "print(f\"Дисперсия: {variance}\")\n",
    "print(f\"Медиана: {median}\")\n",
    "print(f\"Коэффициент вариации: {cv}\")\n",
    "print(f\"Коэффициент асимметрии: {skewness}\")\n",
    "print(f\"Эксцесс: {kurtosis}\")"
   ]
  },
  {
   "cell_type": "markdown",
   "id": "05da08a8",
   "metadata": {},
   "source": [
    "## Добавление большой флуктуации\n"
   ]
  },
  {
   "cell_type": "code",
   "execution_count": 83,
   "id": "320a40d4",
   "metadata": {},
   "outputs": [],
   "source": [
    "intervals_with_fluct = [(150, 175), (175, 200), (200, 225), (225, 250), (250, 275), (975,1000)]\n",
    "frequencies_with_fluct = [160, 340, 345, 135, 20, 1]"
   ]
  },
  {
   "cell_type": "code",
   "execution_count": 84,
   "id": "901cb00d",
   "metadata": {},
   "outputs": [],
   "source": [
    "data_with_fluct = []\n",
    "for interval, freq in zip(intervals_with_fluct, frequencies_with_fluct):\n",
    "    value = (interval[0] + interval[1]) / 2  # среднее значение внутри интервала\n",
    "    data_with_fluct.extend([value] * 50)  # повторяем значение freq раз"
   ]
  },
  {
   "cell_type": "code",
   "execution_count": 77,
   "id": "6d4bdd29",
   "metadata": {},
   "outputs": [
    {
     "data": {
      "text/plain": [
       "1001"
      ]
     },
     "execution_count": 77,
     "metadata": {},
     "output_type": "execute_result"
    }
   ],
   "source": [
    "len(data_with_fluct)"
   ]
  },
  {
   "cell_type": "markdown",
   "id": "b7134df0",
   "metadata": {},
   "source": [
    "## Вычисление статистических параметров для выборки с большой флуктуацией\n"
   ]
  },
  {
   "cell_type": "code",
   "execution_count": 86,
   "id": "44292085",
   "metadata": {},
   "outputs": [
    {
     "name": "stdout",
     "output_type": "stream",
     "text": [
      "\n",
      "**После добавления большой флуктуации:**\n",
      "Среднее: 341.6666666666667\n",
      "Дисперсия: 84461.80555555553\n",
      "Медиана: 225.0\n",
      "Коэффициент вариации: 0.8506042923156978\n",
      "Коэффициент асимметрии: 1.7394196461587734\n",
      "Эксцесс: 1.1119690640088136\n"
     ]
    }
   ],
   "source": [
    "mean_fluctuation = np.mean(data_with_fluct)\n",
    "variance_fluctuation = np.var(data_with_fluct)\n",
    "median_fluctuation = np.median(data_with_fluct)\n",
    "cv_fluctuation = np.std(data_with_fluct) / np.mean(data_with_fluct)\n",
    "skewness_fluctuation = stats.skew(data_with_fluct)\n",
    "kurtosis_fluctuation = stats.kurtosis(data_with_fluct)\n",
    "\n",
    "print(\"\\n**После добавления большой флуктуации:**\")\n",
    "print(f\"Среднее: {mean_fluctuation}\")\n",
    "print(f\"Дисперсия: {variance_fluctuation}\")\n",
    "print(f\"Медиана: {median_fluctuation}\")\n",
    "print(f\"Коэффициент вариации: {cv_fluctuation}\")\n",
    "print(f\"Коэффициент асимметрии: {skewness_fluctuation}\")\n",
    "print(f\"Эксцесс: {kurtosis_fluctuation}\")\n",
    "\n",
    "plt.show()"
   ]
  }
 ],
 "metadata": {
  "kernelspec": {
   "display_name": "Python 3 (ipykernel)",
   "language": "python",
   "name": "python3"
  },
  "language_info": {
   "codemirror_mode": {
    "name": "ipython",
    "version": 3
   },
   "file_extension": ".py",
   "mimetype": "text/x-python",
   "name": "python",
   "nbconvert_exporter": "python",
   "pygments_lexer": "ipython3",
   "version": "3.9.18"
  }
 },
 "nbformat": 4,
 "nbformat_minor": 5
}
